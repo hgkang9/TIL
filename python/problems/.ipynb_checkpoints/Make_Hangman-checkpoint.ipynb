{
 "cells": [
  {
   "cell_type": "markdown",
   "metadata": {},
   "source": [
    "# 행맨 게임 만들기 "
   ]
  },
  {
   "cell_type": "markdown",
   "metadata": {},
   "source": [
    "## 답안 확인 하기\n",
    "\n",
    "> 행맨 게임을 위한 코드를 작성해봅시다. \n",
    ">\n",
    "> `isanswer(answer, letters)`는 정답 문자열(answer)과 추측 알파벳의 리스트(letters)를 받아서, True/False 결과를 반환합니다."
   ]
  },
  {
   "cell_type": "code",
   "execution_count": 1,
   "metadata": {},
   "outputs": [],
   "source": [
    "# 여기에 코드를 작성하세요.\n",
    "def isanswer(answer, letters):\n",
    "    count = 0\n",
    "    for n in answer:\n",
    "        if n in letters:\n",
    "            count += 1\n",
    "        else:\n",
    "            return False\n",
    "        if count == len(answer):\n",
    "            return True"
   ]
  },
  {
   "cell_type": "code",
   "execution_count": 57,
   "metadata": {},
   "outputs": [],
   "source": [
    "def isanswer(answer, letters):\n",
    "    for char in answer:\n",
    "        if char not in letters:\n",
    "            return False\n",
    "    return True"
   ]
  },
  {
   "cell_type": "code",
   "execution_count": null,
   "metadata": {},
   "outputs": [],
   "source": [
    "def isanswer(answer, letters):\n",
    "    return set(answer).issubset(set(letters)) #issubset : answer의 set가 letter의 set에 속하느냐"
   ]
  },
  {
   "cell_type": "code",
   "execution_count": 95,
   "metadata": {},
   "outputs": [
    {
     "data": {
      "text/plain": [
       "True"
      ]
     },
     "execution_count": 95,
     "metadata": {},
     "output_type": "execute_result"
    }
   ],
   "source": [
    "isanswer('apple', ['a', 'p', 'l', 'e'])"
   ]
  },
  {
   "cell_type": "code",
   "execution_count": 3,
   "metadata": {
    "scrolled": true
   },
   "outputs": [
    {
     "data": {
      "text/plain": [
       "False"
      ]
     },
     "execution_count": 3,
     "metadata": {},
     "output_type": "execute_result"
    }
   ],
   "source": [
    "isanswer('apple', ['a', 'p', 'l']) #=> False"
   ]
  },
  {
   "cell_type": "code",
   "execution_count": 4,
   "metadata": {},
   "outputs": [
    {
     "data": {
      "text/plain": [
       "True"
      ]
     },
     "execution_count": 4,
     "metadata": {},
     "output_type": "execute_result"
    }
   ],
   "source": [
    "isanswer('notebook', ['n', 'o', 't', 'e', 'b', 'k'])"
   ]
  },
  {
   "cell_type": "markdown",
   "metadata": {},
   "source": [
    "## 현재 상태 출력하기\n",
    "\n",
    "> 행맨 게임을 위한 코드를 작성해봅시다. \n",
    ">\n",
    "> `status(answer, letters)`는 정답 문자열(answer)과 추측 알파벳의 리스트(letters)를 받아서, 현재 결과를 반환합니다."
   ]
  },
  {
   "cell_type": "code",
   "execution_count": 44,
   "metadata": {},
   "outputs": [],
   "source": [
    "# replace\n",
    "def status(answer, letters):   \n",
    "    b = []\n",
    "    for n in answer:\n",
    "        if n in letters:\n",
    "            b.append(n)\n",
    "        else:\n",
    "            b.append('_')\n",
    "    return ''.join(b)"
   ]
  },
  {
   "cell_type": "code",
   "execution_count": 2,
   "metadata": {},
   "outputs": [],
   "source": [
    "def status(answer, letters):   \n",
    "    b = ''\n",
    "    for n in answer:\n",
    "        if n in letters:\n",
    "            b += n\n",
    "        else:\n",
    "            b += '_'\n",
    "    return b"
   ]
  },
  {
   "cell_type": "code",
   "execution_count": 53,
   "metadata": {},
   "outputs": [],
   "source": [
    "def status(answer, letters):   \n",
    "    for n in answer:\n",
    "        if n not in letters:\n",
    "            answer = answer.replace(n, '_')\n",
    "    return answer"
   ]
  },
  {
   "cell_type": "code",
   "execution_count": null,
   "metadata": {},
   "outputs": [],
   "source": [
    "def status(answer, letters):\n",
    "    result = [c if c in letters else '_' for c in answer]\n",
    "    return ''.join(result)"
   ]
  },
  {
   "cell_type": "code",
   "execution_count": 21,
   "metadata": {},
   "outputs": [
    {
     "data": {
      "text/plain": [
       "'appl_'"
      ]
     },
     "execution_count": 21,
     "metadata": {},
     "output_type": "execute_result"
    }
   ],
   "source": [
    "status('apple', ['a', 'p', 'l']) #=> 'appl_'"
   ]
  },
  {
   "cell_type": "code",
   "execution_count": 22,
   "metadata": {},
   "outputs": [
    {
     "data": {
      "text/plain": [
       "'_ote_oo_'"
      ]
     },
     "execution_count": 22,
     "metadata": {},
     "output_type": "execute_result"
    }
   ],
   "source": [
    "status('notebook', ['o', 't', 'e'])"
   ]
  },
  {
   "cell_type": "markdown",
   "metadata": {},
   "source": [
    "## 행맨 로직 만들기 - 자유코딩!\n",
    "\n",
    "> 위의 코드를 활용하여 `hangman(answer)`를 만들어봅시다!\n",
    ">\n",
    "> 사용자가 답을 맞출 때까지 진행하며, 8번내로 정답을 맞춰야 합니다.\n"
   ]
  },
  {
   "cell_type": "code",
   "execution_count": 6,
   "metadata": {},
   "outputs": [],
   "source": [
    "def hangman(answer):\n",
    "    count = 8\n",
    "    letters = []\n",
    "    while count > 0:\n",
    "        a = input('단어를 입력하세요 : ').lower()\n",
    "        letters.append(a)\n",
    "        print(status(answer, letters))\n",
    "        count -= 1\n",
    "        if isanswer(answer, letters):\n",
    "            print(\"정답\")\n",
    "            break\n",
    "    return \"실패\"\n",
    "    \n",
    "            \n",
    "    "
   ]
  },
  {
   "cell_type": "code",
   "execution_count": null,
   "metadata": {},
   "outputs": [],
   "source": [
    "def hangman(answer):\n",
    "    count = 8\n",
    "    letters = []\n",
    "    while count > 0:\n",
    "        a = input('단어를 입력하세요 : ').lower()\n",
    "        letters.append(a)\n",
    "        print(status(answer, letters))\n",
    "        count -= 1\n",
    "        if isanswer(answer, letters):\n",
    "            print(\"정답\")\n",
    "            break\n",
    "        if count == 0:\n",
    "            print(\"실패\")\n",
    "    "
   ]
  },
  {
   "cell_type": "code",
   "execution_count": 4,
   "metadata": {
    "scrolled": true
   },
   "outputs": [
    {
     "name": "stdout",
     "output_type": "stream",
     "text": [
      "단어를 입력하세요 : a\n",
      "a____\n",
      "단어를 입력하세요 : p\n",
      "app__\n",
      "단어를 입력하세요 : l\n",
      "appl_\n",
      "단어를 입력하세요 : d\n",
      "appl_\n",
      "단어를 입력하세요 : f\n",
      "appl_\n",
      "단어를 입력하세요 : s\n",
      "appl_\n",
      "단어를 입력하세요 : f\n",
      "appl_\n",
      "단어를 입력하세요 : e\n",
      "apple\n",
      "정답\n"
     ]
    },
    {
     "data": {
      "text/plain": [
       "'실패'"
      ]
     },
     "execution_count": 4,
     "metadata": {},
     "output_type": "execute_result"
    }
   ],
   "source": [
    "hangman('apple')"
   ]
  }
 ],
 "metadata": {
  "kernelspec": {
   "display_name": "Python 3",
   "language": "python",
   "name": "python3"
  },
  "language_info": {
   "codemirror_mode": {
    "name": "ipython",
    "version": 3
   },
   "file_extension": ".py",
   "mimetype": "text/x-python",
   "name": "python",
   "nbconvert_exporter": "python",
   "pygments_lexer": "ipython3",
   "version": "3.7.1"
  },
  "latex_envs": {
   "LaTeX_envs_menu_present": true,
   "autoclose": false,
   "autocomplete": true,
   "bibliofile": "biblio.bib",
   "cite_by": "apalike",
   "current_citInitial": 1,
   "eqLabelWithNumbers": true,
   "eqNumInitial": 1,
   "hotkeys": {
    "equation": "Ctrl-E",
    "itemize": "Ctrl-I"
   },
   "labels_anchors": false,
   "latex_user_defs": false,
   "report_style_numbering": false,
   "user_envs_cfg": false
  },
  "toc": {
   "base_numbering": 1,
   "nav_menu": {},
   "number_sections": true,
   "sideBar": true,
   "skip_h1_title": false,
   "title_cell": "Table of Contents",
   "title_sidebar": "Contents",
   "toc_cell": false,
   "toc_position": {},
   "toc_section_display": true,
   "toc_window_display": false
  }
 },
 "nbformat": 4,
 "nbformat_minor": 2
}
