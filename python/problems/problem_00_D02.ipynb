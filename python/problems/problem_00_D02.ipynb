{
 "cells": [
  {
   "cell_type": "markdown",
   "metadata": {},
   "source": [
    "# 가상화폐 시세 판단하기"
   ]
  },
  {
   "cell_type": "markdown",
   "metadata": {},
   "source": [
    "> 최고가와 최저가의 차이를 변동폭으로 정의할 때 (시가 + 변동폭)이 최고가 보다 높을 경우 \"상승장\", 그렇지 않은 경우 \"하락장\" 문자열을 출력하라.\n",
    "\n",
    "|Key Name        |     Description|\n",
    "|---|---|\n",
    "|opeing_price    |최근 24시간 내 시작 거래금액|\n",
    "|closing_price   |최근 24시간 내 마지막 거래금액|\n",
    "|min_price       |최근 24시간 내 최저 거래금액|\n",
    "|max_price       |최근 24시간 내 최고 거래금액|"
   ]
  },
  {
   "cell_type": "code",
   "execution_count": 73,
   "metadata": {},
   "outputs": [
    {
     "name": "stdout",
     "output_type": "stream",
     "text": [
      "{'opening_price': '4269000', 'closing_price': '4322000', 'min_price': '4240000', 'max_price': '4379000', 'average_price': '4310996.4415', 'units_traded': '15867.94055832', 'volume_1day': '15867.94055832', 'volume_7day': '42925.74438761', 'buy_price': '4320000', 'sell_price': '4322000', '24H_fluctate': '53000', '24H_fluctate_rate': '1.24', 'date': '1546495959963'}\n"
     ]
    }
   ],
   "source": [
    "import requests\n",
    "btc = requests.get('https://api.bithumb.com/public/ticker/btc').json()['data']\n",
    "print(btc)"
   ]
  },
  {
   "cell_type": "code",
   "execution_count": 74,
   "metadata": {},
   "outputs": [
    {
     "name": "stdout",
     "output_type": "stream",
     "text": [
      "상승장\n"
     ]
    }
   ],
   "source": [
    "opening_price = int(btc['opening_price'])\n",
    "max_price = int(btc['max_price'])\n",
    "min_price = int(btc['min_price'])\n",
    "if opening_price + (max_price - min_price) > max_price:\n",
    "    print('상승장')\n",
    "else:\n",
    "    print('하락장')"
   ]
  },
  {
   "cell_type": "code",
   "execution_count": 46,
   "metadata": {},
   "outputs": [
    {
     "name": "stdout",
     "output_type": "stream",
     "text": [
      "상승장\n"
     ]
    }
   ],
   "source": [
    "# 아래에 코드를 작성하세요.\n",
    "aaa_price = float(btc['max_price']) - float(btc['min_price'])\n",
    "bbb_price = float(btc['opening_price']) + aaa_price\n",
    "if bbb_price > float(btc['max_price']):\n",
    "    print('상승장')\n",
    "else:\n",
    "    print('하락장')"
   ]
  },
  {
   "cell_type": "markdown",
   "metadata": {},
   "source": [
    "## 모든 가상화폐 시세 판단하기\n",
    "\n",
    "\n",
    "> currrency dictionary에 담겨있는 모든 가상화폐 거래내역을 바탕으로 출력하라.\n",
    ">\n",
    "> 예외 처리에 유의하세요.\n",
    "\n",
    "\n",
    "\n",
    "```\n",
    "예시 출력)\n",
    "BTC 상승장\n",
    "ETH 상승장\n",
    "DASH 상승장\n",
    "LTC 하락장\n",
    "ETC 하락장\n",
    "XRP 상승장\n",
    "BCH 상승장\n",
    "...\n",
    "```\n"
   ]
  },
  {
   "cell_type": "code",
   "execution_count": 54,
   "metadata": {},
   "outputs": [
    {
     "name": "stdout",
     "output_type": "stream",
     "text": [
      "{'BTC': {'opening_price': '4266000', 'closing_price': '4319000', 'min_price': '4240000', 'max_price': '4379000', 'average_price': '4310182.4388', 'units_traded': '15893.94759892', 'volume_1day': '15893.94759892', 'volume_7day': '43030.77093672', 'buy_price': '4316000', 'sell_price': '4319000', '24H_fluctate': '53000', '24H_fluctate_rate': '1.24'}, 'ETH': {'opening_price': '157600', 'closing_price': '171000', 'min_price': '156600', 'max_price': '174000', 'average_price': '168117.4958', 'units_traded': '527280.59440412', 'volume_1day': '527280.59440412', 'volume_7day': '1549976.62115229944061972', 'buy_price': '171000', 'sell_price': '171200', '24H_fluctate': '13400', '24H_fluctate_rate': '8.50'}, 'DASH': {'opening_price': '89300', 'closing_price': '93050', 'min_price': '88100', 'max_price': '94800', 'average_price': '93110.3253', 'units_traded': '4481006.17873055', 'volume_1day': '4481006.17873055', 'volume_7day': '35204927.90912653', 'buy_price': '93000', 'sell_price': '93300', '24H_fluctate': '3750', '24H_fluctate_rate': '4.19'}, 'LTC': {'opening_price': '35480', 'closing_price': '36240', 'min_price': '35230', 'max_price': '37330', 'average_price': '36425.4475', 'units_traded': '75118.2308388', 'volume_1day': '75118.2308388', 'volume_7day': '177305.39177674', 'buy_price': '36240', 'sell_price': '36330', '24H_fluctate': '760', '24H_fluctate_rate': '2.14'}, 'ETC': {'opening_price': '5825', 'closing_price': '5920', 'min_price': '5785', 'max_price': '6040', 'average_price': '5948.6737', 'units_traded': '191842.89727705', 'volume_1day': '191842.89727705', 'volume_7day': '1841228.852711649802529256', 'buy_price': '5920', 'sell_price': '5935', '24H_fluctate': '95', '24H_fluctate_rate': '1.63'}, 'XRP': {'opening_price': '404', 'closing_price': '409', 'min_price': '399', 'max_price': '420', 'average_price': '410.4197', 'units_traded': '73549884.19030342', 'volume_1day': '73549884.19030342', 'volume_7day': '505520346.7454073', 'buy_price': '409', 'sell_price': '410', '24H_fluctate': '5', '24H_fluctate_rate': '1.23'}, 'BCH': {'opening_price': '182500', 'closing_price': '187800', 'min_price': '179600', 'max_price': '195900', 'average_price': '186442.5397', 'units_traded': '77692.51625301', 'volume_1day': '77692.51625301', 'volume_7day': '605302.03514961', 'buy_price': '187700', 'sell_price': '187800', '24H_fluctate': '5300', '24H_fluctate_rate': '2.90'}, 'XMR': {'opening_price': '53900', 'closing_price': '57000', 'min_price': '53400', 'max_price': '59600', 'average_price': '57469.3255', 'units_traded': '12331117.98150932', 'volume_1day': '12331117.98150932', 'volume_7day': '55998943.593699750869', 'buy_price': '57000', 'sell_price': '57350', '24H_fluctate': '3100', '24H_fluctate_rate': '5.75'}, 'ZEC': {'opening_price': '65000', 'closing_price': '66700', 'min_price': '64400', 'max_price': '69150', 'average_price': '67100.4616', 'units_traded': '786893.68033335', 'volume_1day': '786893.68033335', 'volume_7day': '42233845.94164041', 'buy_price': '66500', 'sell_price': '66700', '24H_fluctate': '1700', '24H_fluctate_rate': '2.61'}, 'QTUM': {'opening_price': '2470', 'closing_price': '2540', 'min_price': '2434', 'max_price': '2599', 'average_price': '2530.8256', 'units_traded': '341129.32370913', 'volume_1day': '341129.32370913', 'volume_7day': '5234563.7921376', 'buy_price': '2540', 'sell_price': '2544', '24H_fluctate': '70', '24H_fluctate_rate': '2.83'}, 'BTG': {'opening_price': '14520', 'closing_price': '14800', 'min_price': '14300', 'max_price': '15100', 'average_price': '14890.6619', 'units_traded': '20156126.88540743', 'volume_1day': '20156126.88540743', 'volume_7day': '95384275.44550806', 'buy_price': '14790', 'sell_price': '14860', '24H_fluctate': '280', '24H_fluctate_rate': '1.92'}, 'EOS': {'opening_price': '2942', 'closing_price': '3117', 'min_price': '2926', 'max_price': '3204', 'average_price': '3083.5517', 'units_traded': '3761443.65489783', 'volume_1day': '3761443.65489783', 'volume_7day': '24469479.11997342', 'buy_price': '3113', 'sell_price': '3119', '24H_fluctate': '175', '24H_fluctate_rate': '5.94'}, 'ICX': {'opening_price': '271', 'closing_price': '299', 'min_price': '269', 'max_price': '318', 'average_price': '289.3466', 'units_traded': '1480172.68896724', 'volume_1day': '1480172.68896724', 'volume_7day': '4039543.684515423938105487', 'buy_price': '297', 'sell_price': '298', '24H_fluctate': '28', '24H_fluctate_rate': '10.33'}, 'VET': {'opening_price': '7.27', 'closing_price': '7.3', 'min_price': '7', 'max_price': '7.35', 'average_price': '7.2217', 'units_traded': '8957158.27331729', 'volume_1day': '8957158.27331729', 'volume_7day': '73559421.889810628192044491', 'buy_price': '7.25', 'sell_price': '7.31', '24H_fluctate': '0.03', '24H_fluctate_rate': '0.41'}, 'TRX': {'opening_price': '21.4', 'closing_price': '21.8', 'min_price': '21.3', 'max_price': '22.5', 'average_price': '21.9549', 'units_traded': '107105792.35299051', 'volume_1day': '107105792.35299051', 'volume_7day': '878300745.6073759', 'buy_price': '21.8', 'sell_price': '21.9', '24H_fluctate': '0.4', '24H_fluctate_rate': '1.86'}, 'ELF': {'opening_price': '126', 'closing_price': '127', 'min_price': '123', 'max_price': '132', 'average_price': '127.9853', 'units_traded': '1989813.59134283', 'volume_1day': '1989813.59134283', 'volume_7day': '16126620.002810584399320282', 'buy_price': '127', 'sell_price': '128', '24H_fluctate': '1', '24H_fluctate_rate': '0.79'}, 'MITH': {'opening_price': '69.6', 'closing_price': '70.4', 'min_price': '68.1', 'max_price': '72.5', 'average_price': '70.5348', 'units_traded': '13640946.30547066', 'volume_1day': '13640946.30547066', 'volume_7day': '114134144.660697367986315871', 'buy_price': '70.1', 'sell_price': '70.7', '24H_fluctate': '0.8', '24H_fluctate_rate': '1.14'}, 'MCO': {'opening_price': '2448', 'closing_price': '2620', 'min_price': '2434', 'max_price': '2700', 'average_price': '2576.089', 'units_traded': '830301.76392588', 'volume_1day': '830301.76392588', 'volume_7day': '1164794.5254876', 'buy_price': '2593', 'sell_price': '2619', '24H_fluctate': '172', '24H_fluctate_rate': '7.02'}, 'OMG': {'opening_price': '1600', 'closing_price': '1669', 'min_price': '1600', 'max_price': '1705', 'average_price': '1653.8112', 'units_traded': '203051.65530102', 'volume_1day': '203051.65530102', 'volume_7day': '9955354.726516384470246679', 'buy_price': '1660', 'sell_price': '1672', '24H_fluctate': '69', '24H_fluctate_rate': '4.31'}, 'KNC': {'opening_price': '178', 'closing_price': '184', 'min_price': '178', 'max_price': '188', 'average_price': '182.5479', 'units_traded': '1252875.380192', 'volume_1day': '1252875.380192', 'volume_7day': '7446943.116276792226516373', 'buy_price': '184', 'sell_price': '186', '24H_fluctate': '6', '24H_fluctate_rate': '3.37'}, 'GNT': {'opening_price': '75.2', 'closing_price': '77.2', 'min_price': '74.4', 'max_price': '79', 'average_price': '77.2863', 'units_traded': '2586835.71706369', 'volume_1day': '2586835.71706369', 'volume_7day': '37935838.867010589477199817', 'buy_price': '77.2', 'sell_price': '77.7', '24H_fluctate': '2', '24H_fluctate_rate': '2.65'}, 'ZIL': {'opening_price': '22.8', 'closing_price': '22.6', 'min_price': '22.1', 'max_price': '23.3', 'average_price': '22.7742', 'units_traded': '33637904.7597042', 'volume_1day': '33637904.7597042', 'volume_7day': '469759075.172553866289', 'buy_price': '22.5', 'sell_price': '22.6', '24H_fluctate': '-0.2', '24H_fluctate_rate': '-0.87'}, 'ETHOS': {'opening_price': '1122', 'closing_price': '1113', 'min_price': '1060', 'max_price': '1156', 'average_price': '1105.2', 'units_traded': '370141.78269509', 'volume_1day': '370141.78269509', 'volume_7day': '7594711.55580418', 'buy_price': '1102', 'sell_price': '1113', '24H_fluctate': '-9', '24H_fluctate_rate': '-0.80'}, 'PAY': {'opening_price': '1841', 'closing_price': '1800', 'min_price': '1690', 'max_price': '1875', 'average_price': '1796.384', 'units_traded': '537613.15888048', 'volume_1day': '537613.15888048', 'volume_7day': '12060788.745726976652719418', 'buy_price': '1795', 'sell_price': '1800', '24H_fluctate': '-41', '24H_fluctate_rate': '-2.22'}, 'WAX': {'opening_price': '109', 'closing_price': '107', 'min_price': '103', 'max_price': '110', 'average_price': '107.1753', 'units_traded': '1389601.43535296', 'volume_1day': '1389601.43535296', 'volume_7day': '21471846.57035321', 'buy_price': '106', 'sell_price': '107', '24H_fluctate': '-2', '24H_fluctate_rate': '-1.83'}, 'POWR': {'opening_price': '564', 'closing_price': '534', 'min_price': '500', 'max_price': '565', 'average_price': '537.3', 'units_traded': '924647.87220137', 'volume_1day': '924647.87220137', 'volume_7day': '7859871.28919574', 'buy_price': '534', 'sell_price': '542', '24H_fluctate': '-30', '24H_fluctate_rate': '-5.31'}, 'LRC': {'opening_price': '602', 'closing_price': '590', 'min_price': '568', 'max_price': '610', 'average_price': '589.5128', 'units_traded': '347059.68666611', 'volume_1day': '347059.68666611', 'volume_7day': '3867791.525722897867907104', 'buy_price': '584', 'sell_price': '590', '24H_fluctate': '-12', '24H_fluctate_rate': '-1.99'}, 'GTO': {'opening_price': '73.3', 'closing_price': '72.8', 'min_price': '70.5', 'max_price': '74.3', 'average_price': '72.4978', 'units_traded': '2147106.67254819', 'volume_1day': '2147106.67254819', 'volume_7day': '25726574.33977941', 'buy_price': '72', 'sell_price': '72.8', '24H_fluctate': '-0.5', '24H_fluctate_rate': '-0.68'}, 'STEEM': {'opening_price': '1840', 'closing_price': '1849', 'min_price': '1800', 'max_price': '1919', 'average_price': '1852.1566', 'units_traded': '117902.32057375', 'volume_1day': '117902.32057375', 'volume_7day': '1674260.73407886', 'buy_price': '1848', 'sell_price': '1873', '24H_fluctate': '9', '24H_fluctate_rate': '0.48'}, 'STRAT': {'opening_price': '2878', 'closing_price': '2881', 'min_price': '2697', 'max_price': '2932', 'average_price': '2835.7055', 'units_traded': '85513.80251597', 'volume_1day': '85513.80251597', 'volume_7day': '714935.13950411', 'buy_price': '2871', 'sell_price': '2881', '24H_fluctate': '3', '24H_fluctate_rate': '0.10'}, 'ZRX': {'opening_price': '354', 'closing_price': '363', 'min_price': '354', 'max_price': '367', 'average_price': '360.8924', 'units_traded': '774085.12186698', 'volume_1day': '774085.12186698', 'volume_7day': '7048304.324547573115281717', 'buy_price': '363', 'sell_price': '364', '24H_fluctate': '9', '24H_fluctate_rate': '2.54'}, 'REP': {'opening_price': '97500', 'closing_price': '98750', 'min_price': '95650', 'max_price': '101000', 'average_price': '98078.6885', 'units_traded': '5997.27992481', 'volume_1day': '5997.27992481', 'volume_7day': '98673.946745985929175878', 'buy_price': '98200', 'sell_price': '98750', '24H_fluctate': '1250', '24H_fluctate_rate': '1.28'}, 'AE': {'opening_price': '1683', 'closing_price': '1644', 'min_price': '1605', 'max_price': '1720', 'average_price': '1650.6253', 'units_traded': '141812.24821272', 'volume_1day': '141812.24821272', 'volume_7day': '2319866.898137368926801516', 'buy_price': '1644', 'sell_price': '1653', '24H_fluctate': '-39', '24H_fluctate_rate': '-2.31'}, 'XEM': {'opening_price': '72.9', 'closing_price': '74.3', 'min_price': '71.2', 'max_price': '87.8', 'average_price': '76.05', 'units_traded': '9545841.67654388', 'volume_1day': '9545841.67654388', 'volume_7day': '21154711.89733642', 'buy_price': '73.4', 'sell_price': '74', '24H_fluctate': '1.4', '24H_fluctate_rate': '1.92'}, 'SNT': {'opening_price': '117', 'closing_price': '119', 'min_price': '108', 'max_price': '120', 'average_price': '116.1971', 'units_traded': '3324544.77246442', 'volume_1day': '3324544.77246442', 'volume_7day': '25990525.560177065038854866', 'buy_price': '118', 'sell_price': '119', '24H_fluctate': '2', '24H_fluctate_rate': '1.70'}, 'ADA': {'opening_price': '78', 'closing_price': '77.3', 'min_price': '75.9', 'max_price': '79.5', 'average_price': '77.8607', 'units_traded': '2858638.49609485', 'volume_1day': '2858638.49609485', 'volume_7day': '40418418.50208317', 'buy_price': '77.3', 'sell_price': '77.9', '24H_fluctate': '-0.7', '24H_fluctate_rate': '-0.89'}, 'PPT': {'opening_price': '1665', 'closing_price': '1671', 'min_price': '1636', 'max_price': '1707', 'average_price': '1682.4534', 'units_traded': '34633.10668692', 'volume_1day': '34633.10668692', 'volume_7day': '758633.8822196', 'buy_price': '1671', 'sell_price': '1688', '24H_fluctate': '6', '24H_fluctate_rate': '0.36'}, 'CTXC': {'opening_price': '112', 'closing_price': '118', 'min_price': '112', 'max_price': '123', 'average_price': '117.9243', 'units_traded': '1733557.19759295', 'volume_1day': '1733557.19759295', 'volume_7day': '11963988.272307975775543446', 'buy_price': '118', 'sell_price': '119', '24H_fluctate': '6', '24H_fluctate_rate': '5.35'}, 'CMT': {'opening_price': '35.2', 'closing_price': '34.8', 'min_price': '32.4', 'max_price': '38.1', 'average_price': '36.1351', 'units_traded': '12150759.4422092', 'volume_1day': '12150759.4422092', 'volume_7day': '40585908.560310217290073956', 'buy_price': '34.7', 'sell_price': '35.1', '24H_fluctate': '-0.4', '24H_fluctate_rate': '-1.13'}, 'THETA': {'opening_price': '54.4', 'closing_price': '56.3', 'min_price': '52.8', 'max_price': '60', 'average_price': '55.8022', 'units_traded': '13104877.74793796', 'volume_1day': '13104877.74793796', 'volume_7day': '95477732.122209200836930498', 'buy_price': '56.4', 'sell_price': '56.8', '24H_fluctate': '1.9', '24H_fluctate_rate': '3.49'}, 'WTC': {'opening_price': '1238', 'closing_price': '1278', 'min_price': '1220', 'max_price': '1288', 'average_price': '1259.9048', 'units_traded': '104940.2145831', 'volume_1day': '104940.2145831', 'volume_7day': '2372365.038662167178244233', 'buy_price': '1267', 'sell_price': '1278', '24H_fluctate': '40', '24H_fluctate_rate': '3.23'}, 'ITC': {'opening_price': '136', 'closing_price': '141', 'min_price': '133', 'max_price': '142', 'average_price': '138.0157', 'units_traded': '2235003.85371271', 'volume_1day': '2235003.85371271', 'volume_7day': '26130759.173689503003314062', 'buy_price': '139', 'sell_price': '141', '24H_fluctate': '5', '24H_fluctate_rate': '3.67'}, 'TRUE': {'opening_price': '283', 'closing_price': '296', 'min_price': '280', 'max_price': '306', 'average_price': '292.5611', 'units_traded': '486060.22123792', 'volume_1day': '486060.22123792', 'volume_7day': '6712451.236498352801872378', 'buy_price': '293', 'sell_price': '296', '24H_fluctate': '13', '24H_fluctate_rate': '4.59'}, 'ABT': {'opening_price': '96.2', 'closing_price': '100', 'min_price': '92.8', 'max_price': '128', 'average_price': '108.7434', 'units_traded': '30193618.96519116', 'volume_1day': '30193618.96519116', 'volume_7day': '41653144.433704442921137791', 'buy_price': '100', 'sell_price': '101', '24H_fluctate': '3.8', '24H_fluctate_rate': '3.95'}, 'RNT': {'opening_price': '98.8', 'closing_price': '138', 'min_price': '96.4', 'max_price': '164', 'average_price': '135.5373', 'units_traded': '69645699.680208', 'volume_1day': '69645699.680208', 'volume_7day': '110011426.57929013532207168', 'buy_price': '139', 'sell_price': '140', '24H_fluctate': '39.2', '24H_fluctate_rate': '39.67'}, 'PLY': {'opening_price': '37.4', 'closing_price': '38.8', 'min_price': '36.9', 'max_price': '41.3', 'average_price': '39.0823', 'units_traded': '28974284.06146236', 'volume_1day': '28974284.06146236', 'volume_7day': '104667748.583594582', 'buy_price': '38.5', 'sell_price': '38.8', '24H_fluctate': '1.4', '24H_fluctate_rate': '3.74'}, 'WAVES': {'opening_price': '3499', 'closing_price': '3456', 'min_price': '3384', 'max_price': '3528', 'average_price': '3459.1348', 'units_traded': '1109602.08198897', 'volume_1day': '1109602.08198897', 'volume_7day': '2919106.69807814', 'buy_price': '3457', 'sell_price': '3473', '24H_fluctate': '-43', '24H_fluctate_rate': '-1.22'}, 'LINK': {'opening_price': '334', 'closing_price': '397', 'min_price': '330', 'max_price': '446', 'average_price': '391.6601', 'units_traded': '4071001.16503889', 'volume_1day': '4071001.16503889', 'volume_7day': '7334446.017409790586857881', 'buy_price': '397', 'sell_price': '398', '24H_fluctate': '63', '24H_fluctate_rate': '18.86'}, 'ENJ': {'opening_price': '44.4', 'closing_price': '44.3', 'min_price': '43.7', 'max_price': '45.9', 'average_price': '44.6435', 'units_traded': '3262883.50787866', 'volume_1day': '3262883.50787866', 'volume_7day': '31391463.14011630257126765', 'buy_price': '44.3', 'sell_price': '44.6', '24H_fluctate': '-0.1', '24H_fluctate_rate': '-0.22'}, 'PST': {'opening_price': '107', 'closing_price': '117', 'min_price': '105', 'max_price': '123', 'average_price': '115.252', 'units_traded': '3531201.47540879', 'volume_1day': '3531201.47540879', 'volume_7day': '10200188.884749858489488829', 'buy_price': '112', 'sell_price': '117', '24H_fluctate': '10', '24H_fluctate_rate': '9.34'}, 'SALT': {'opening_price': '268', 'closing_price': '279', 'min_price': '265', 'max_price': '289', 'average_price': '275.5417', 'units_traded': '1745967.18403363', 'volume_1day': '1745967.18403363', 'volume_7day': '13194583.06291024', 'buy_price': '277', 'sell_price': '280', '24H_fluctate': '11', '24H_fluctate_rate': '4.10'}, 'RDN': {'opening_price': '262', 'closing_price': '308', 'min_price': '260', 'max_price': '350', 'average_price': '318.0372', 'units_traded': '6867575.26103866', 'volume_1day': '6867575.26103866', 'volume_7day': '21387815.645394257359668468', 'buy_price': '308', 'sell_price': '309', '24H_fluctate': '46', '24H_fluctate_rate': '17.55'}, 'LOOM': {'opening_price': '50.5', 'closing_price': '55.2', 'min_price': '50.5', 'max_price': '60', 'average_price': '55.1989', 'units_traded': '11194328.09086169', 'volume_1day': '11194328.09086169', 'volume_7day': '28365169.14341002325102964', 'buy_price': '55.1', 'sell_price': '55.9', '24H_fluctate': '4.7', '24H_fluctate_rate': '9.30'}, 'BHPC': {'opening_price': '911', 'closing_price': '913', 'min_price': '895', 'max_price': '930', 'average_price': '910.1282', 'units_traded': '697855.05972616', 'volume_1day': '697855.05972616', 'volume_7day': '9381247.776513745882660416', 'buy_price': '913', 'sell_price': '914', '24H_fluctate': '2', '24H_fluctate_rate': '0.21'}, 'PIVX': {'opening_price': '944', 'closing_price': '969', 'min_price': '929', 'max_price': '990', 'average_price': '962.2178', 'units_traded': '383988.11471671', 'volume_1day': '383988.11471671', 'volume_7day': '10775513.27851736', 'buy_price': '960', 'sell_price': '969', '24H_fluctate': '25', '24H_fluctate_rate': '2.64'}, 'INS': {'opening_price': '309', 'closing_price': '326', 'min_price': '307', 'max_price': '369', 'average_price': '332.7462', 'units_traded': '2692976.84793219', 'volume_1day': '2692976.84793219', 'volume_7day': '9771359.6821125447', 'buy_price': '326', 'sell_price': '329', '24H_fluctate': '17', '24H_fluctate_rate': '5.50'}, 'BCD': {'opening_price': '1012', 'closing_price': '1039', 'min_price': '1002', 'max_price': '1040', 'average_price': '1022.8143', 'units_traded': '226069.01502678', 'volume_1day': '226069.01502678', 'volume_7day': '2456734.98832558', 'buy_price': '1031', 'sell_price': '1039', '24H_fluctate': '27', '24H_fluctate_rate': '2.66'}, 'BZNT': {'opening_price': '25.8', 'closing_price': '28', 'min_price': '25.4', 'max_price': '31.9', 'average_price': '29.2398', 'units_traded': '92289321.0700253', 'volume_1day': '92289321.0700253', 'volume_7day': '165625271.202179646283836089', 'buy_price': '27.7', 'sell_price': '27.9', '24H_fluctate': '2.2', '24H_fluctate_rate': '8.52'}, 'XLM': {'opening_price': '128', 'closing_price': '129', 'min_price': '126', 'max_price': '133', 'average_price': '129.4308', 'units_traded': '7033283.29390881', 'volume_1day': '7033283.29390881', 'volume_7day': '52839727.44858626', 'buy_price': '129', 'sell_price': '130', '24H_fluctate': '1', '24H_fluctate_rate': '0.78'}, 'OCN': {'opening_price': '4.05', 'closing_price': '3.98', 'min_price': '3.87', 'max_price': '4.05', 'average_price': '3.9637', 'units_traded': '77589706.39710183', 'volume_1day': '77589706.39710183', 'volume_7day': '1976286017.733811200405195728', 'buy_price': '3.96', 'sell_price': '3.98', '24H_fluctate': '-0.07', '24H_fluctate_rate': '-1.72'}, 'BSV': {'opening_price': '102000', 'closing_price': '102200', 'min_price': '100000', 'max_price': '106900', 'average_price': '102803.0572', 'units_traded': '40093.63564368', 'volume_1day': '40093.63564368', 'volume_7day': '291299.56959266', 'buy_price': '102200', 'sell_price': '102300', '24H_fluctate': '200', '24H_fluctate_rate': '0.19'}, 'TMTG': {'opening_price': '8.37', 'closing_price': '8.35', 'min_price': '8.3', 'max_price': '8.5', 'average_price': '8.3861', 'units_traded': '200168002.92350134', 'volume_1day': '200168002.92350134', 'volume_7day': '1401059731.609077431951784331', 'buy_price': '8.34', 'sell_price': '8.36', '24H_fluctate': '-0.02', '24H_fluctate_rate': '-0.23'}, 'BAT': {'opening_price': '146', 'closing_price': '148', 'min_price': '145', 'max_price': '154', 'average_price': '148.7704', 'units_traded': '1391884.16067594', 'volume_1day': '1391884.16067594', 'volume_7day': '6798248.100185704766733152', 'buy_price': '147', 'sell_price': '149', '24H_fluctate': '2', '24H_fluctate_rate': '1.36'}, 'WET': {'opening_price': '13.6', 'closing_price': '14.1', 'min_price': '13.6', 'max_price': '14.6', 'average_price': '14.1322', 'units_traded': '31079996.52440886', 'volume_1day': '31079996.52440886', 'volume_7day': '218056741.327468161936344749', 'buy_price': '14.1', 'sell_price': '14.2', '24H_fluctate': '0.5', '24H_fluctate_rate': '3.67'}, 'XVG': {'opening_price': '7.8', 'closing_price': '7.96', 'min_price': '7.79', 'max_price': '8.09', 'average_price': '7.9262', 'units_traded': '6522923.18275046', 'volume_1day': '6522923.18275046', 'volume_7day': '51928202.55642393', 'buy_price': '7.95', 'sell_price': '8.01', '24H_fluctate': '0.16', '24H_fluctate_rate': '2.05'}, 'IOST': {'opening_price': '6.07', 'closing_price': '6.46', 'min_price': '6.05', 'max_price': '6.63', 'average_price': '6.3973', 'units_traded': '469656429.08197994', 'volume_1day': '469656429.08197994', 'volume_7day': '1072999239.608587639864523967', 'buy_price': '6.41', 'sell_price': '6.46', '24H_fluctate': '0.39', '24H_fluctate_rate': '6.42'}, 'POLY': {'opening_price': '157', 'closing_price': '159', 'min_price': '155', 'max_price': '165', 'average_price': '160.065', 'units_traded': '1127342.55469356', 'volume_1day': '1127342.55469356', 'volume_7day': '13084823.06599986706337241', 'buy_price': '159', 'sell_price': '160', '24H_fluctate': '2', '24H_fluctate_rate': '1.27'}, 'HC': {'opening_price': '1430', 'closing_price': '1437', 'min_price': '1390', 'max_price': '1453', 'average_price': '1420.2299', 'units_traded': '68820.14142437', 'volume_1day': '68820.14142437', 'volume_7day': '1082866.56553894', 'buy_price': '1419', 'sell_price': '1437', '24H_fluctate': '7', '24H_fluctate_rate': '0.48'}, 'MEETONE': [], 'ADD': [], 'HORUS': [], 'CHL': [], 'EOSDAC': [], 'BLACK': [], 'ROM': {'opening_price': '0.14', 'closing_price': '0.13', 'min_price': '0.12', 'max_price': '0.14', 'average_price': '0.1272', 'units_traded': '19596954168.43004121', 'volume_1day': '19596954168.43004121', 'volume_7day': '175823660256.480581660303161222', 'buy_price': '0.12', 'sell_price': '0.13', '24H_fluctate': '-0.01', '24H_fluctate_rate': '-7.14'}, 'AMO': {'opening_price': '1.78', 'closing_price': '1.75', 'min_price': '1.66', 'max_price': '1.93', 'average_price': '1.7705', 'units_traded': '22092236731.6761407', 'volume_1day': '22092236731.6761407', 'volume_7day': '23582075727.211349744961236613', 'buy_price': '1.75', 'sell_price': '1.76', '24H_fluctate': '-0.03', '24H_fluctate_rate': '-1.68'}, 'date': '1546493516930'}\n"
     ]
    }
   ],
   "source": [
    "currency = requests.get('https://api.bithumb.com/public/ticker/all').json()['data']\n",
    "print(currency)"
   ]
  },
  {
   "cell_type": "code",
   "execution_count": 90,
   "metadata": {},
   "outputs": [
    {
     "name": "stdout",
     "output_type": "stream",
     "text": [
      "BTC 상승장\n",
      "ETH 상승장\n",
      "DASH 상승장\n",
      "LTC 상승장\n",
      "ETC 상승장\n",
      "XRP 상승장\n",
      "BCH 상승장\n",
      "XMR 상승장\n",
      "ZEC 상승장\n",
      "QTUM 상승장\n",
      "BTG 상승장\n",
      "EOS 상승장\n",
      "ICX 상승장\n",
      "VET 상승장\n",
      "TRX 상승장\n",
      "ELF 상승장\n",
      "MITH 상승장\n",
      "MCO 상승장\n",
      "OMG 하락장\n",
      "KNC 하락장\n",
      "GNT 상승장\n",
      "ZIL 상승장\n",
      "ETHOS 상승장\n",
      "PAY 상승장\n",
      "WAX 상승장\n",
      "POWR 상승장\n",
      "LRC 상승장\n",
      "GTO 상승장\n",
      "STEEM 상승장\n",
      "STRAT 상승장\n",
      "ZRX 하락장\n",
      "REP 상승장\n",
      "AE 상승장\n",
      "XEM 상승장\n",
      "SNT 상승장\n",
      "ADA 상승장\n",
      "PPT 상승장\n",
      "CTXC 하락장\n",
      "CMT 상승장\n",
      "THETA 상승장\n",
      "WTC 상승장\n",
      "ITC 상승장\n",
      "TRUE 상승장\n",
      "ABT 상승장\n",
      "RNT 상승장\n",
      "PLY 상승장\n",
      "WAVES 상승장\n",
      "LINK 상승장\n",
      "ENJ 상승장\n",
      "PST 상승장\n",
      "SALT 상승장\n",
      "RDN 상승장\n",
      "LOOM 하락장\n",
      "BHPC 상승장\n",
      "PIVX 상승장\n",
      "INS 상승장\n",
      "BCD 상승장\n",
      "BZNT 상승장\n",
      "XLM 상승장\n",
      "OCN 상승장\n",
      "BSV 상승장\n",
      "TMTG 상승장\n",
      "BAT 상승장\n",
      "WET 하락장\n",
      "XVG 상승장\n",
      "IOST 상승장\n",
      "POLY 상승장\n",
      "HC 상승장\n",
      "ROM 상승장\n",
      "AMO 상승장\n"
     ]
    }
   ],
   "source": [
    "# 아래에 코드를 작성하세요.\n",
    "for key, value in currency.items():\n",
    "    #첫번째, key == 'BTC', value == {...}\n",
    "#for key in currency.keys():\n",
    "    #key == 'BTC'\n",
    "    #value = currency[key]\n",
    "    #방법 1. if 'max_price' in value:\n",
    "    #방법 2. if type(value) == type({}):\n",
    "    #방법 2-a. if isinstance(value, dict): 두 개의 타입(객체)이 같은지 비교하는 내장함수\n",
    "    #방법 3.\n",
    "    try:\n",
    "        opening_price = float(value['opening_price'])\n",
    "        max_price = float(value['max_price'])\n",
    "        min_price = float(value['min_price'])\n",
    "        if opening_price + (max_price - min_price) > max_price:\n",
    "            print(f'{key} 상승장')\n",
    "        else:\n",
    "            print(f'{key} 하락장')\n",
    "    except TypeError:\n",
    "        pass\n",
    "    "
   ]
  },
  {
   "cell_type": "code",
   "execution_count": null,
   "metadata": {},
   "outputs": [],
   "source": []
  }
 ],
 "metadata": {
  "kernelspec": {
   "display_name": "Python 3",
   "language": "python",
   "name": "python3"
  },
  "language_info": {
   "codemirror_mode": {
    "name": "ipython",
    "version": 3
   },
   "file_extension": ".py",
   "mimetype": "text/x-python",
   "name": "python",
   "nbconvert_exporter": "python",
   "pygments_lexer": "ipython3",
   "version": "3.7.1"
  },
  "toc": {
   "base_numbering": 1,
   "nav_menu": {},
   "number_sections": true,
   "sideBar": true,
   "skip_h1_title": false,
   "title_cell": "Table of Contents",
   "title_sidebar": "Contents",
   "toc_cell": false,
   "toc_position": {},
   "toc_section_display": true,
   "toc_window_display": false
  }
 },
 "nbformat": 4,
 "nbformat_minor": 2
}
